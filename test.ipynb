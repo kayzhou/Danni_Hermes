{
 "metadata": {
  "language_info": {
   "codemirror_mode": {
    "name": "ipython",
    "version": 3
   },
   "file_extension": ".py",
   "mimetype": "text/x-python",
   "name": "python",
   "nbconvert_exporter": "python",
   "pygments_lexer": "ipython3",
   "version": "3.8.10"
  },
  "orig_nbformat": 4,
  "kernelspec": {
   "name": "python3",
   "display_name": "Python 3.8.10 64-bit ('base': conda)"
  },
  "interpreter": {
   "hash": "6a1352079606d11c621885201470cae74579ac815f1080e8510dab6caa192ea7"
  }
 },
 "nbformat": 4,
 "nbformat_minor": 2,
 "cells": [
  {
   "cell_type": "code",
   "execution_count": 2,
   "metadata": {},
   "outputs": [],
   "source": [
    "import requests\n",
    "from bs4 import BeautifulSoup"
   ]
  },
  {
   "cell_type": "code",
   "execution_count": 3,
   "metadata": {},
   "outputs": [],
   "source": [
    "# 项链\n",
    "r = requests.get(\"https://www.hermes.cn/cn/zh/category/%E5%A5%B3%E5%A3%AB/%E6%97%B6%E5%B0%9A%E9%A6%96%E9%A5%B0/%E9%A1%B9%E9%93%BE%E5%9D%A0%E9%A5%B0/#||%E7%B1%BB%E5%88%AB\")\n",
    "\n",
    "# 耳环\n",
    "r = requests.get(\"https://www.hermes.cn/cn/zh/category/%E5%A5%B3%E5%A3%AB/%E6%97%B6%E5%B0%9A%E9%A6%96%E9%A5%B0/%E8%80%B3%E7%8E%AF/#||%E6%9D%90%E8%B4%A8\")\n"
   ]
  },
  {
   "cell_type": "code",
   "execution_count": 4,
   "metadata": {},
   "outputs": [],
   "source": [
    "content = r.content\n",
    "soup = BeautifulSoup(content, 'lxml')"
   ]
  },
  {
   "cell_type": "code",
   "execution_count": 5,
   "metadata": {},
   "outputs": [],
   "source": [
    "soup = BeautifulSoup(content, 'lxml')"
   ]
  },
  {
   "cell_type": "code",
   "execution_count": 20,
   "metadata": {},
   "outputs": [
    {
     "output_type": "execute_result",
     "data": {
      "text/plain": [
       ",&q;alternatives&q;:{},&q;redirectionUrl&q;:&q;&q;,&q;url&q;:&q;fh_view_size=36&a;country=cn&a;fh_location=--%2Fcategories%3C%7Bwomennecklaces%7D&q;},&q;headers&q;:{&q;content-type&q;:[&q;application/json&q;],&q;content-length&q;:[&q;19717&q;],&q;connection&q;:[&q;keep-alive&q;],&q;date&q;:[&q;Sun, 27 Jun 2021 21:46:42 GMT&q;],&q;x-amzn-requestid&q;:[&q;1bac356a-0b07-454f-a45b-53b332e555ff&q;],&q;x-amzn-remapped-content-length&q;:[&q;19717&q;],&q;x-hermes-created-at&q;:[&q;2021-06-27T21:46:42.119Z&q;],&q;x-amzn-remapped-connection&q;:[&q;Keep-Alive&q;],&q;x-amz-apigw-id&q;:[&q;Bmq2XFXWFiAFvlQ=&q;],&q;cache-control&q;:[&q;public, max-age=300&q;],&q;vary&q;:[&q;Accept-Encoding&q;],&q;x-amzn-remapped-server&q;:[&q;api-manager&q;],&q;request-id&q;:[&q;4b918f8b-cae7-4b9d-83c7-dd8955df835c&q;],&q;response-time&q;:[&q;349&q;],&q;x-newrelic-app-data&q;:[&q;PxQGUlJUAQUER1NVBwMCXlYGABFORDQHUjZKA1ZLVVFHDFYPHjNWERBfURhJJH1nH0sREFhVQgUQQhQfUkpTTANWAVMODQcBCkkIWAZQBE5GUAMFVVABBFEFUVACUFVRXRMaVQMKEAdt&q;],&q;x-amzn-remapped-content-md5&q;:[&q;iMw/JHB7juAcb2oT/tQxhw==&q;],&q;x-amzn-remapped-date&q;:[&q;Sun, 27 Jun 2021 21:46:42 GMT&q;],&q;x-cache&q;:[&q;Miss from cloudfront&q;],&q;via&q;:[&q;1.1 c714e4f593454d65f62cf3fecf756a4c.cloudfront.net (CloudFront)&q;],&q;x-amz-cf-pop&q;:[&q;FRA53-C1&q;],&q;x-amz-cf-id&q;:[&q;tzzHnXKwOqtSUGc0TE--P-L6_b1AjXpb9toU154sv5KpyK8ApgM-NQ==&q;]},&q;status&q;:200,&q;statusText&q;:&q;OK&q;,&q;url&q;:&q;https://bck.hermes.cn/products?locale=cn_zh&a;category=WOMENNECKLACES&a;sort=relevance&a;pagesize=36&q;},&q;G.https://bck.hermes.cn/footer-items?locale=cn_zh&q;:{&q;body&q;:{&q;columns&q;:[{&q;column_label&q;:&q;服务&q;,&q;column_items&q;:[{&q;item_label&q;:&q;联系我们&q;,&q;item_type&q;:&q;button&q;,&q;item_data&q;:&q;tray-help&q;,&q;item_new_tab&q;:false},{&q;item_label&q;:&q;常见问题&q;,&q;item_type&q;:&q;link&q;,&q;item_data&q;:&q;https://www.hermes.cn/cn/zh/faq/&q;,&q;item_new_tab&q;:false},{&q;item_label&q;:&q;爱马仕专卖店&q;,&q;item_type&q;:&q;link&q;,&q;item_data&q;:&q;https://www.hermes.cn/cn/zh/find-store/&q;,&q;item_new_tab&q;:false},{&q;item_label&q;:&q;销售美妆产品的专卖店&q;,&q;item_type&q;:&q;link&q;,&q;item_data&q;:&q;https://www.hermes.cn/cn/zh/make-up-stores/&q;,&q;item_new_tab&q;:false},{&q;item_label&q;:&q;礼物&q;,&q;item_type&q;:&q;link&q;,&q;item_data&q;:&q;https://www.hermes.cn/cn/zh/%E5%B8%B8%E8%A7%81%E9%97%AE%E9%A2%98/%E7%BD%91%E4%B8%8A%E8%B4%AD%E7%89%A9-cn/#礼物&q;,&q;item_new_tab&q;:false},{&q;item_label&q;:&q;高级定制&q;,&q;item_type&q;:&q;link&q;,&q;item_data&q;:&q;https://www.hermes.cn/cn/zh/story/186761-institutional-campaign-2019/&q;,&q;item_new_tab&q;:false},{&q;item_label&q;:&q;保养与修复&q;,&q;item_type&q;:&q;link&q;,&q;item_data&q;:&q;https://www.hermes.cn/cn/zh/maintenance-repair/&q;,&q;item_new_tab&q;:false}]},{&q;column_label&q;:&q;购物帮助&q;,&q;column_items&q;:[{&q;item_label&q;:&q;付款&q;,&q;item_type&q;:&q;link&q;,&q;item_data&q;:&q;https://www.hermes.cn/cn/zh/%E5%B8%B8%E8%A7%81%E9%97%AE%E9%A2%98/%E7%BD%91%E4%B8%8A%E8%B4%AD%E7%89%A9-cn/#付款&q;,&q;item_new_tab&q;:false},{&q;item_label&q;:&q;配送&q;,&q;item_type&q;:&q;link&q;,&q;item_data&q;:&q;https://www.hermes.cn/cn/zh/%E5%B8%B8%E8%A7%81%E9%97%AE%E9%A2%98/%E7%BD%91%E4%B8%8A%E8%B4%AD%E7%89%A9-cn/#配送&q;,&q;item_new_tab&q;:false},{&q;item_label&q;:&q;专卖店取货&q;,&q;item_type&q;:&q;link&q;,&q;item_data&q;:&q;https://www.hermes.cn/cn/zh/%E5%B8%B8%E8%A7%81%E9%97%AE%E9%A2%98/%E7%BD%91%E4%B8%8A%E8%B4%AD%E7%89%A9-cn/#专卖店取货&q;,&q;item_new_tab&q;:false},{&q;item_label&q;:&q;物流查询&q;,&q;item_type&q;:&q;button&q;,&q;item_data&q;:&q;tray-account&q;,&q;item_new_tab&q;:false},{&q;item_label&q;:&q;换货及退货&q;,&q;item_type&q;:&q;link&q;,&q;item_data&q;:&q;https://www.hermes.cn/cn/zh/%E5%B8%B8%E8%A7%81%E9%97%AE%E9%A2%98/%E7%BD%91%E4%B8%8A%E8%B4%AD%E7%89%A9-cn/#换货及退货&q;,&q;item_new_tab&q;:false}]},{&q;column_label&q;:&q;爱马仕品牌&q;,&q;column_items&q;:[{&q;item_label&q;:&q;可持续发展&q;,&q;item_type&q;:&q;link&q;,&q;item_data&q;:&q;https://www.hermes.cn/cn/zh/story/158031-sustainable-development/&q;,&q;item_new_tab&q;:false},{&q;item_label&q;:&q;加入爱马仕&q;,&q;item_type&q;:&q;link&q;,&q;item_data&q;:&q;https://www.hermes.cn/cn/zh/story/221126-hermes-employeur/&q;,&q;item_new_tab&q;:false},{&q;item_label&q;:&q;财务 &a; 管理&q;,&q;item_type&q;:&q;link&q;,&q;item_data&q;:&q;https://finance.hermes.com/en/&q;,&q;item_new_tab&q;:true},{&q;item_label&q;:&q;爱马仕基金会&q;,&q;item_type&q;:&q;link&q;,&q;item_data&q;:&q;http://www.fondationdentreprisehermes.org/en&q;,&q;item_new_tab&q;:true},{&q;item_label&q;:&q;集团旗下其他品牌&q;,&q;item_type&q;:&q;button&q;,&q;item_data&q;:&q;tray-sister-brands&q;,&q;item_new_tab&q;:false}]},{&q;column_label&q;:&q;法律信息&q;,&q;column_items&q;:[{&q;item_label&q;:&q;法律条款&q;,&q;item_type&q;:&q;link&q;,&q;item_data&q;:&q;https://www.hermes.cn/cn/zh/%E6%B3%95%E5%BE%8B%E6%9D%A1%E6%AC%BE-cn/&q;,&q;item_new_tab&q;:false},{&q;item_label&q;:&q;隐私政策&q;,&q;item_type&q;:&q;link&q;,&q;item_data&q;:&q;https://www.hermes.cn/cn/zh/%E9%9A%90%E7%A7%81%E6%94%BF%E7%AD%96-cn/&q;,&q;item_new_tab&q;:false},{&q;item_label&q;:&q;法律声明&q;,&q;item_type&q;:&q;link&q;,&q;item_data&q;:&q;https://www.hermes.cn/cn/zh/%E6%B3%95%E5%BE%8B%E5%A3%B0%E6%98%8E-cn/&q;,&q;item_new_tab&q;:false},{&q;item_label&q;:&q;约束性企业规则&q;,&q;item_type&q;:&q;link&q;,&q;item_data&q;:&q;https://www.hermes.cn/cn/zh/bcr-cn/&q;,&q;item_new_tab&q;:false}]}],&q;social_networks&q;:[{&q;machine_name&q;:&q;wechat-grey&q;,&q;is_wechat&q;:true,&q;href&q;:&q;#&q;,&q;is_cn&q;:true},{&q;machine_name&q;:&q;weibo-grey&q;,&q;is_wechat&q;:false,&q;href&q;:&q;http://weibo.com/n/HERMES&q;,&q;is_cn&q;:true}],&q;here_to_help&q;:{&q;title&q;:&q;客户服务中心&q;,&q;phone_number&q;:&q;400 090 6610&q;,&q;opening&q;:[{&q;days&q;:&q;周一至周日&q;,&q;open&q;:&q;10点&q;,&q;close&q;:&q;22点&q;,&q;timezone&q;:&q;&q;}]},&q;legal_links&q;:[{&q;link_text&q;:&q;电子营业执照&q;,&q;link_href&q;:&q;https://assets.hermes.com/is/content/hermesedito/Legal/HC%20Business%20License.pdf&q;},{&q;link_text&q;:&q;沪公网安备 31010602002693号&q;,&q;link_href&q;:&q;https://www.beian.gov.cn/portal/registerSystemInfo?recordcode=31010602002693&q;},{&q;link_text&q;:&q;沪ICP备17032469号-2&q;,&q;link_href&q;:&q; http://wap.scjgj.sh.gov.cn/businessCheck/verifKey.do?showType=extShow&a;serial=9031000020170912143911000002054562-SAIC_SHOW_310000-20190411150609212537&a;signData=MEUCIQCD26DfP1PSSxcPnq2wT11yNHB2Nz7EYZilcdqufpzXGwIgbZjwSVOj1xm9GN4lGd5fjqY7Inh0rI4IhUo4bVB5AEk=&q;},{&q;link_text&q;:&q;沪ICP备17032469号-2&q;,&q;link_href&q;:&q;http://sh.beian.miit.gov.cn/&q;}]},&q;headers&q;:{&q;content-type&q;:[&q;application/json&q;],&q;content-length&q;:[&q;4358&q;],&q;connection&q;:[&q;keep-alive&q;],&q;date&q;:[&q;Sun, 27 Jun 2021 21:46:42 GMT&q;],&q;x-amzn-requestid&q;:[&q;6249f598-0126-403d-86d6-ff5f73772a47&q;],&q;x-amzn-remapped-content-length&q;:[&q;4358&q;],&q;x-hermes-created-at&q;:[&q;2021-06-27T21:46:42.572Z&q;],&q;x-amzn-remapped-connection&q;:[&q;Keep-Alive&q;],&q;x-amz-apigw-id&q;:[&q;Bmq2bGLWFiAFjjQ=&q;],&q;cache-control&q;:[&q;public, max-age=300&q;],&q;vary&q;:[&q;Accept-Encoding&q;],&q;x-amzn-remapped-server&q;:[&q;api-manager&q;],&q;request-id&q;:[&q;91cddbb1-a411-4130-b3e4-1db7f9009a00&q;],&q;response-time&q;:[&q;15&q;],&q;x-newrelic-app-data&q;:[&q;PxQGUlJUAQUER1NVBwMCXlYGABFORDQHUjZKA1ZLVVFHDFYPHjNWERBfURhJJH1nH0sHDVhFUhRJWEJWDxVBTgBOCEwICQALAVYAUANNB1FRDhtDVVQAAQJUV1BTCFRRBgAGC0BKBQNcEV0/&q;],&q;x-amzn-remapped-content-md5&q;:[&q;QKc8NG5LH9TkMfuofzGEXw==&q;],&q;x-amzn-remapped-date&q;:[&q;Sun, 27 Jun 2021 21:46:42 GMT&q;],&q;x-cache&q;:[&q;Miss from cloudfront&q;],&q;via&q;:[&q;1.1 85dc19f43b2a0bd8840fdf8baf07d762.cloudfront.net (CloudFront)&q;],&q;x-amz-cf-pop&q;:[&q;FRA53-C1&q;],&q;x-amz-cf-id&q;:[&q;PWwydViiGKu2lp_u2Rjxk8JMoinqhd-fcqMUCZVEucueDjp6LITkkA==&q;]},&q;status&q;:200,&q;statusText&q;:&q;OK&q;,&q;url&q;:&q;https://bck.hermes.cn/footer-items?locale=cn_zh&q;},&q;G.https://bck.hermes.cn/editorial?locale=cn_zh&a;storyids=[282330]&q;:{&q;body&q;:[{&q;nodeId&q;:282336,&q;mediaType&q;:&q;snackable_video&q;,&q;contentTitle&q;:&q;身心相印&q;,&q;contentBody&q;:&q;&l;p class=\\&q;editorial-block-text\\&q;&g;金色金属搭配红色皮革，As de cœur时尚首饰系列王牌出招。款式工艺精湛，灵感源自50年代的腰带，现以全新风貌现身于手镯、耳环和项链之上，大胆表达爱意。&l;/p&g;\\n&q;,&q;nodeUrl&q;:&q;/cn/zh/video/fsnackablevideoleatherheartandsoulallcountrieszhfh/&q;,&q;imageDesktopUrl&q;:&q;//assets.hermes.cn/is/image/hermesedito/P_169_ADM_SS21_4?name=P_169_ADM_SS21_4&a;end&q;,&q;imageDesktopAlt&q;:&q;&q;,&q;imageMobileUrl&q;:&q;//assets.hermes.cn/is/image/hermesedito/P_43_ADM_SS21_4?name=P_43_ADM_SS21_4&a;end&q;,&q;imageMobileAlt&q;:&q;&q;,&q;videoUrl&q;:&q;&q;,&q;videoLoopMuteAutoplay&q;:false,&q;videoControls&q;:false,&q;imageRetouched&q;:false}],&q;headers&q;:{&q;content-type&q;:[&q;application/json&q;],&q;content-length&q;:[&q;757&q;],&q;connection&q;:[&q;keep-alive&q;],&q;date&q;:[&q;Sun, 27 Jun 2021 21:46:42 GMT&q;],&q;x-amzn-requestid&q;:[&q;22c9d9a7-86e8-4156-bcab-55619b26342a&q;],&q;x-amzn-remapped-content-length&q;:[&q;757&q;],&q;x-hermes-created-at&q;:[&q;2021-06-27T21:46:42.576Z&q;],&q;x-amzn-remapped-connection&q;:[&q;Keep-Alive&q;],&q;x-amz-apigw-id&q;:[&q;Bmq2bGW2liAFt7w=&q;],&q;cache-control&q;:[&q;public, max-age=300&q;],&q;vary&q;:[&q;Accept-Encoding&q;],&q;x-amzn-remapped-server&q;:[&q;api-manager&q;],&q;request-id&q;:[&q;a0c74278-90ed-4e46-a640-0baae236e4e2&q;],&q;response-time&q;:[&q;19&q;],&q;x-newrelic-app-data&q;:[&q;PxQGUlJUAQUER1NVBwMCXlYGABFORDQHUjZKA1ZLVVFHDFYPHjNWERBfURhJJH1nH0sEBl5FWBQNUFoRTlZPUh5SCVoACwYEAlIVVgRWH0BRVAICB1ALVwEGUQECBQZTRh1QUg4VBj8=&q;],&q;x-amzn-remapped-content-md5&q;:[&q;ctMIoNtaDqQT7gxKm0/U7g==&q;],&q;x-amzn-remapped-date&q;:[&q;Sun, 27 Jun 2021 21:46:42 GMT&q;],&q;x-cache&q;:[&q;Miss from cloudfront&q;],&q;via&q;:[&q;1.1 660f4277d8fbef27985e8a4a97e362cc.cloudfront.net (CloudFront)&q;],&q;x-amz-cf-pop&q;:[&q;FRA53-C1&q;],&q;x-amz-cf-id&q;:[&q;NjrgfReM8MK48Gb9Ksx_rC4bvs-f-nmPGx2QmdmKsRNmpWaJgTsFQg==&q;]},&q;status&q;:200,&q;statusText&q;:&q;OK&q;,&q;url&q;:&q;https://bck.hermes.cn/editorial?locale=cn_zh&a;storyids=%5B282330%5D&q;}}</script></body></html>"
      ]
     },
     "metadata": {},
     "execution_count": 20
    }
   ],
   "source": [
    "soup"
   ]
  },
  {
   "cell_type": "code",
   "execution_count": 26,
   "metadata": {},
   "outputs": [
    {
     "output_type": "execute_result",
     "data": {
      "text/plain": [
       "19"
      ]
     },
     "metadata": {},
     "execution_count": 26
    }
   ],
   "source": [
    "soup.select('#grid-results-ul')[0]\n",
    "len(soup.select('#grid-results-ul')[0])"
   ]
  },
  {
   "cell_type": "code",
   "execution_count": 6,
   "metadata": {},
   "outputs": [
    {
     "output_type": "execute_result",
     "data": {
      "text/plain": [
       "56"
      ]
     },
     "metadata": {},
     "execution_count": 6
    }
   ],
   "source": [
    "len(soup.find_all('li'))"
   ]
  },
  {
   "cell_type": "code",
   "execution_count": 33,
   "metadata": {
    "tags": []
   },
   "outputs": [
    {
     "output_type": "stream",
     "name": "stdout",
     "text": [
      "Amulette Padlock项链，小号, 颜色:  未染色 ,  ¥2,650 \nAmulette Maroquinier项链，小号, 颜色:  未染色 ,  ¥2,650 \nAmulette Kelly项链，大号, 颜色:  未染色 ,  ¥5,500 \nAmulette Equestre项链，小号, 颜色:  未染色 ,  ¥2,650 \nAmulette Padlock项链，大号, 颜色:  未染色 ,  ¥5,500 \nO'Maillon项链, 颜色:  米色 ,  ¥2,650 \nAs de Coeur项链，小号, 颜色:  米色 ,  ¥3,050 \nHeritage Equestre Etrier项链，大号, 颜色:  米色 ,  ¥5,800 \nCuriosite长项链, 颜色:  黄色 ,  ¥4,400 \nAs de Coeur项链，大号, 颜色:  红色 ,  ¥5,450 \nAmulette Laquee Kelly项链，大号, 颜色:  多色 ,  ¥5,900 \nAmulette Laquee Kelly项链，大号, 颜色:  多色 ,  ¥5,900 \nAmulette Laquee Padlock项链，大号, 颜色:  多色 ,  ¥5,900 \nAmulette Laquee Padlock项链，大号, 颜色:  多色 ,  ¥5,900 \nO'Kelly项链，小号, 颜色:  黑色 ,  ¥2,650 \nO'Maillon项链, 颜色:  黑色 ,  ¥2,650 \nHeritage Equestre项链，大号, 颜色:  黑色 ,  ¥5,800 \n"
     ]
    }
   ],
   "source": [
    "for li in soup.find_all('li'):\n",
    "    # print(\"\\n\")\n",
    "    # print(li)\n",
    "    # print(li.get(\"_ngcontent-sc19\"))\n",
    "    if \"颜色\" in li.text:\n",
    "        print(li.text)"
   ]
  },
  {
   "cell_type": "code",
   "execution_count": null,
   "metadata": {},
   "outputs": [],
   "source": []
  }
 ]
}