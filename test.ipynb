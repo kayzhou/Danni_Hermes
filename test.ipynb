{
 "metadata": {
  "language_info": {
   "codemirror_mode": {
    "name": "ipython",
    "version": 3
   },
   "file_extension": ".py",
   "mimetype": "text/x-python",
   "name": "python",
   "nbconvert_exporter": "python",
   "pygments_lexer": "ipython3",
   "version": "3.8.10"
  },
  "orig_nbformat": 4,
  "kernelspec": {
   "name": "python3",
   "display_name": "Python 3.8.10 64-bit ('base': conda)"
  },
  "interpreter": {
   "hash": "6a1352079606d11c621885201470cae74579ac815f1080e8510dab6caa192ea7"
  }
 },
 "nbformat": 4,
 "nbformat_minor": 2,
 "cells": [
  {
   "cell_type": "code",
   "execution_count": 1,
   "metadata": {},
   "outputs": [],
   "source": [
    "import requests\n",
    "from bs4 import BeautifulSoup"
   ]
  },
  {
   "cell_type": "code",
   "execution_count": 41,
   "metadata": {},
   "outputs": [
    {
     "output_type": "stream",
     "name": "stdout",
     "text": [
      "Mini Pop H耳环 | Hermès - 爱马仕官网\n"
     ]
    },
    {
     "output_type": "execute_result",
     "data": {
      "text/plain": [
       "' Customization and add to cart  颜色 ,\\xa0 亮粉色 已选择 亮粉色 ,\\xa0仅在线上发售加入购物袋 \\xa0  Buy with Apple Pay '"
      ]
     },
     "metadata": {},
     "execution_count": 41
    }
   ],
   "source": [
    "# 商品\n",
    "\n",
    "r = requests.get(\"https://www.hermes.cn/cn/zh/product/mini-pop-h%E8%80%B3%E7%8E%AF-H608002FPS7/\")\n",
    "content = r.content\n",
    "soup = BeautifulSoup(content, 'lxml')\n",
    "print(soup.title.text)\n",
    "soup.find_all(\"form\", {\"class\": \"simple-product-selector\"})[0].text"
   ]
  },
  {
   "cell_type": "code",
   "execution_count": 42,
   "metadata": {},
   "outputs": [
    {
     "output_type": "execute_result",
     "data": {
      "text/plain": [
       "['Customization',\n",
       " 'and',\n",
       " 'add',\n",
       " 'to',\n",
       " 'cart',\n",
       " '颜色',\n",
       " ',',\n",
       " '亮粉色',\n",
       " '已选择',\n",
       " '亮粉色',\n",
       " ',',\n",
       " '仅在线上发售加入购物袋',\n",
       " 'Buy',\n",
       " 'with',\n",
       " 'Apple',\n",
       " 'Pay']"
      ]
     },
     "metadata": {},
     "execution_count": 42
    }
   ],
   "source": [
    "t= soup.find_all(\"form\", {\"class\": \"simple-product-selector\"})[0].text\n",
    "t.split()\n",
    "# soup.find_all(\"div\", text=\"颜色\")"
   ]
  },
  {
   "cell_type": "code",
   "execution_count": 15,
   "metadata": {},
   "outputs": [
    {
     "output_type": "execute_result",
     "data": {
      "text/plain": [
       "True"
      ]
     },
     "metadata": {},
     "execution_count": 15
    }
   ],
   "source": [
    "soup.find_all(\"span\", {\"class\": \"message-error\"})[0].text.startswith(\"抱歉！\")"
   ]
  },
  {
   "cell_type": "code",
   "execution_count": 47,
   "metadata": {},
   "outputs": [
    {
     "output_type": "execute_result",
     "data": {
      "text/plain": [
       "403"
      ]
     },
     "metadata": {},
     "execution_count": 47
    }
   ],
   "source": [
    "\n",
    "\n",
    "# 商品\n",
    "\n",
    "r = requests.get(\"https://www.hermes.cn/cn/zh/product/pop-h%E9%A1%B9%E9%93%BE-H147992FO55/\")\n",
    "r.status_code\n",
    "# content = r.content\n",
    "# soup = BeautifulSoup(content, 'lxml')\n",
    "# print(soup.title.text)\n",
    "# soup.find_all(\"form\", {\"class\": \"simple-product-selector\"})[0].text"
   ]
  },
  {
   "cell_type": "code",
   "execution_count": 3,
   "metadata": {},
   "outputs": [],
   "source": [
    "# 项链\n",
    "r = requests.get(\"https://www.hermes.cn/cn/zh/category/%E5%A5%B3%E5%A3%AB/%E6%97%B6%E5%B0%9A%E9%A6%96%E9%A5%B0/%E9%A1%B9%E9%93%BE%E5%9D%A0%E9%A5%B0/#||%E7%B1%BB%E5%88%AB\")\n",
    "\n",
    "# 耳环\n",
    "r = requests.get(\"https://www.hermes.cn/cn/zh/category/%E5%A5%B3%E5%A3%AB/%E6%97%B6%E5%B0%9A%E9%A6%96%E9%A5%B0/%E8%80%B3%E7%8E%AF/#||%E6%9D%90%E8%B4%A8\")\n"
   ]
  },
  {
   "cell_type": "code",
   "execution_count": 4,
   "metadata": {},
   "outputs": [],
   "source": [
    "content = r.content\n",
    "soup = BeautifulSoup(content, 'lxml')"
   ]
  },
  {
   "cell_type": "code",
   "execution_count": 5,
   "metadata": {},
   "outputs": [],
   "source": [
    "soup = BeautifulSoup(content, 'lxml')"
   ]
  },
  {
   "cell_type": "code",
   "execution_count": 26,
   "metadata": {},
   "outputs": [
    {
     "output_type": "execute_result",
     "data": {
      "text/plain": [
       "19"
      ]
     },
     "metadata": {},
     "execution_count": 26
    }
   ],
   "source": [
    "soup.select('#grid-results-ul')[0]\n",
    "len(soup.select('#grid-results-ul')[0])"
   ]
  },
  {
   "cell_type": "code",
   "execution_count": 6,
   "metadata": {},
   "outputs": [
    {
     "output_type": "execute_result",
     "data": {
      "text/plain": [
       "56"
      ]
     },
     "metadata": {},
     "execution_count": 6
    }
   ],
   "source": [
    "len(soup.find_all('li'))"
   ]
  },
  {
   "cell_type": "code",
   "execution_count": 33,
   "metadata": {
    "tags": []
   },
   "outputs": [
    {
     "output_type": "stream",
     "name": "stdout",
     "text": [
      "Amulette Padlock项链，小号, 颜色:  未染色 ,  ¥2,650 \nAmulette Maroquinier项链，小号, 颜色:  未染色 ,  ¥2,650 \nAmulette Kelly项链，大号, 颜色:  未染色 ,  ¥5,500 \nAmulette Equestre项链，小号, 颜色:  未染色 ,  ¥2,650 \nAmulette Padlock项链，大号, 颜色:  未染色 ,  ¥5,500 \nO'Maillon项链, 颜色:  米色 ,  ¥2,650 \nAs de Coeur项链，小号, 颜色:  米色 ,  ¥3,050 \nHeritage Equestre Etrier项链，大号, 颜色:  米色 ,  ¥5,800 \nCuriosite长项链, 颜色:  黄色 ,  ¥4,400 \nAs de Coeur项链，大号, 颜色:  红色 ,  ¥5,450 \nAmulette Laquee Kelly项链，大号, 颜色:  多色 ,  ¥5,900 \nAmulette Laquee Kelly项链，大号, 颜色:  多色 ,  ¥5,900 \nAmulette Laquee Padlock项链，大号, 颜色:  多色 ,  ¥5,900 \nAmulette Laquee Padlock项链，大号, 颜色:  多色 ,  ¥5,900 \nO'Kelly项链，小号, 颜色:  黑色 ,  ¥2,650 \nO'Maillon项链, 颜色:  黑色 ,  ¥2,650 \nHeritage Equestre项链，大号, 颜色:  黑色 ,  ¥5,800 \n"
     ]
    }
   ],
   "source": [
    "for li in soup.find_all('li'):\n",
    "    # print(\"\\n\")\n",
    "    # print(li)\n",
    "    # print(li.get(\"_ngcontent-sc19\"))\n",
    "    if \"颜色\" in li.text:\n",
    "        print(li.text)"
   ]
  },
  {
   "cell_type": "code",
   "execution_count": null,
   "metadata": {},
   "outputs": [],
   "source": []
  }
 ]
}